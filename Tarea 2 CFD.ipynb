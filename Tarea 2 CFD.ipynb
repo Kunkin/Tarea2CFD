{
 "cells": [
  {
   "cell_type": "markdown",
   "metadata": {},
   "source": [
    "# Proyecto 2: Modelación de Tsunami\n",
    "\n",
    "**Fundamentos de Dinámica de Fluidos Computacional**<br>\n",
    "**Profesor Christopher Cooper**<br>\n",
    "**23 de Noviembre de 2017**\n",
    "\n",
    "Valentina Oyarzún 201292003-5\n",
    "***"
   ]
  },
  {
   "cell_type": "markdown",
   "metadata": {},
   "source": [
    "** Condiciones Iniciales **\n",
    "\n",
    "Dominio $-2 \\leq x \\leq 2$ <br>\n",
    "altura del agua en reposo $ h_0 = 1$ <br>\n",
    "perfil $ h(x, t= 0) = h_0 + \\Delta_{h} e^{-5 x^2}$ <br>\n",
    "malla $501$ elementos"
   ]
  },
  {
   "cell_type": "code",
   "execution_count": 12,
   "metadata": {},
   "outputs": [
    {
     "data": {
      "image/png": "[encoded data removed]",
      "text/plain": [
       "<matplotlib.figure.Figure at 0x1981cd919b0>"
      ]
     },
     "metadata": {},
     "output_type": "display_data"
    },
    {
     "data": {
      "text/plain": [
       "<matplotlib.text.Text at 0x1981ce7e048>"
      ]
     },
     "execution_count": 12,
     "metadata": {},
     "output_type": "execute_result"
    }
   ],
   "source": [
    "import numpy\n",
    "import matplotlib.pyplot as plt\n",
    "\n",
    "from scipy.linalg import solve\n",
    "from scipy import sparse\n",
    "from scipy.sparse.linalg import spsolve\n",
    "nx = 501\n",
    "h_0 = 1\n",
    "dh = 0.4\n",
    "x = numpy.linspace(2, -2, nx)\n",
    "dt = 8*10**-3\n",
    "g = 9.8\n",
    "\n",
    "h_t0 = h_0 + dh*numpy.exp(-5*x**2)\n",
    "\n",
    "plt.show()\n",
    "plt.axis([-2, 2, 0, 2])\n",
    "plt.plot(x, h_t0, c='k')\n",
    "plt.title('h en tiempo t=0')\n"
   ]
  },
  {
   "cell_type": "markdown",
   "metadata": {},
   "source": [
    "** Condiciones de borde, $x =2$**\n",
    "\\begin{align}\n",
    "\\frac{\\partial U_1}{\\partial x} = 0  \\text{  ,  }  U_2 = 0\\\\\n",
    "\\end{align}\n",
    "\n",
    "** Condiciones de borde, $x = -2$**\n",
    "\\begin{align}\n",
    "\\frac{\\partial U_1}{\\partial x} = 0 \\text{  ,  } \\frac{\\partial U_2}{\\partial x} = 0\\\\\n",
    "\\end{align}\n",
    "\n",
    "** Discretización para $U_1$ y $U_2$ **\n",
    "\\begin{align}\n",
    "U_{i}^{n+1}= \\frac{1}{2} \\left(  U_{i+1}^{n} + U_{i-1}^{n} \\right) - \\frac{\\Delta t}{2 \\Delta x} \\left( F_{i+1}^{n} + F_{i-1}^{n} \\right)\\\\\n",
    "\\end{align}\n",
    "\n",
    "Pared: <br>\n",
    "\\begin{align}\n",
    "U_1 \\left( x\\left[-1\\right] \\right) = U_1 \\left( x\\left[-2\\right] \\right)\\  \\text{  ,  }  U_2 \\left( x[-1] \\right)= 0\\\\\n",
    "\\end{align}\n",
    "\n",
    "Mar: <br>\n",
    "\\begin{align}\n",
    "U_1 \\left( x\\left[1\\right] \\right) = U_1 \\left( x\\left[2\\right] \\right)\\\\\n",
    "U_2 \\left( x\\left[1\\right] \\right) = U_2 \\left( x\\left[2\\right] \\right)\\\\\n",
    "\\end{align}"
   ]
  },
  {
   "cell_type": "code",
   "execution_count": 1,
   "metadata": {},
   "outputs": [
    {
     "ename": "SyntaxError",
     "evalue": "invalid syntax (<ipython-input-1-ab2a882d3b0e>, line 8)",
     "output_type": "error",
     "traceback": [
      "\u001b[1;36m  File \u001b[1;32m\"<ipython-input-1-ab2a882d3b0e>\"\u001b[1;36m, line \u001b[1;32m8\u001b[0m\n\u001b[1;33m    U1[1:nx-2] = .5*(U1[2:]+)\u001b[0m\n\u001b[1;37m                            ^\u001b[0m\n\u001b[1;31mSyntaxError\u001b[0m\u001b[1;31m:\u001b[0m invalid syntax\n"
     ]
    }
   ],
   "source": [
    "h = h_t0\n",
    "u = 0\n",
    "U1 = h\n",
    "U2 = h*u\n",
    "F1 = h*u\n",
    "F2 =h*u**2+.5*g*h**2\n",
    "\n",
    "U1[1:nx-2] = .5*(U1[2:]+)"
   ]
  },
  {
   "cell_type": "code",
   "execution_count": 2,
   "metadata": {},
   "outputs": [
    {
     "name": "stderr",
     "output_type": "stream",
     "text": [
      "The syntax of the command is incorrect.\n",
      "'chmod' is not recognized as an internal or external command,\n",
      "operable program or batch file.\n",
      "'chmod' is not recognized as an internal or external command,\n",
      "operable program or batch file.\n"
     ]
    }
   ],
   "source": [
    "! mkdir ~/public_html\n",
    "! chmod a+r ~/public_html\n",
    "! chmod g+s ~/public_html"
   ]
  },
  {
   "cell_type": "code",
   "execution_count": null,
   "metadata": {
    "collapsed": true
   },
   "outputs": [],
   "source": []
  }
 ],
 "metadata": {
  "kernelspec": {
   "display_name": "Python 3",
   "language": "python",
   "name": "python3"
  }
 },
 "nbformat": 4,
 "nbformat_minor": 2
}
